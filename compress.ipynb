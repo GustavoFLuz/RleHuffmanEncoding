{
 "cells": [
  {
   "attachments": {},
   "cell_type": "markdown",
   "metadata": {},
   "source": [
    "# Compressão de imagem"
   ]
  },
  {
   "attachments": {},
   "cell_type": "markdown",
   "metadata": {},
   "source": [
    "### Import das bibliotecas"
   ]
  },
  {
   "cell_type": "code",
   "execution_count": 1,
   "metadata": {},
   "outputs": [],
   "source": [
    "import matplotlib.pyplot as plt\n",
    "import numpy as np\n",
    "from PIL import Image\n",
    "import sys\n"
   ]
  },
  {
   "attachments": {},
   "cell_type": "markdown",
   "metadata": {},
   "source": [
    "Função de compressão usando RLE + Huffman"
   ]
  },
  {
   "cell_type": "code",
   "execution_count": 2,
   "metadata": {},
   "outputs": [],
   "source": [
    "def encode(img):\n",
    "    rleImg = rleEncode(img)\n",
    "    huffmanImg = huffmanEncode(rleImg)\n",
    "    return huffmanImg\n",
    "\n",
    "def rleEncode(img):\n",
    "    rleImg = []\n",
    "    for row in img:\n",
    "        currentItem = [256, 256, 256]\n",
    "        rleRow = []\n",
    "        for pix in row:\n",
    "            if not((pix == currentItem).all()):\n",
    "                currentItem = pix\n",
    "                rleRow.append([1, currentItem])\n",
    "            else:\n",
    "                rleRow[-1][0]+=1\n",
    "        rleImg.append(rleRow)\n",
    "    return rleImg\n",
    "    \n",
    "def colorCount(img):\n",
    "    colors = []\n",
    "    for row in img:\n",
    "        for list in row:\n",
    "            found = False\n",
    "            for color in colors:\n",
    "                comparison = color[1]==list[1]\n",
    "                if comparison.all():\n",
    "                    color[0] += list[0]\n",
    "                    found = True\n",
    "                    break\n",
    "            if not(found):\n",
    "                colors.append([list[0], list[1]])\n",
    "    return colors\n",
    "\n",
    "def huffmanEncode(img):\n",
    "    colorsCount = sorted(colorCount(img))\n",
    "    colorsCoded = []\n",
    "    for color in colorsCount:\n",
    "        code = len(colorsCount) - colorsCount.index(color) -1\n",
    "        colorsCoded.append([code, color[1]])\n",
    "    imgCoded = []\n",
    "    for row in img:\n",
    "        rowCoded = []\n",
    "        for pix in row:\n",
    "            for color in colorsCoded:\n",
    "                if(pix[1]==color[1]).all():\n",
    "                    rowCoded.append([color[0], pix[0]])\n",
    "                    break\n",
    "        imgCoded.append(rowCoded)\n",
    "    return [imgCoded, colorsCoded]\n"
   ]
  },
  {
   "attachments": {},
   "cell_type": "markdown",
   "metadata": {},
   "source": [
    "# Execução do código"
   ]
  },
  {
   "attachments": {},
   "cell_type": "markdown",
   "metadata": {},
   "source": [
    "Imagem sem compressão:"
   ]
  },
  {
   "cell_type": "code",
   "execution_count": 3,
   "metadata": {},
   "outputs": [
    {
     "name": "stdout",
     "output_type": "stream",
     "text": [
      "[[  0 162 232]\n",
      " [  0 162 232]\n",
      " [  0 162 232]\n",
      " [  0 162 232]\n",
      " [  0 162 232]\n",
      " [  0 162 232]\n",
      " [  0 162 232]\n",
      " [  0 162 232]\n",
      " [  0 162 232]\n",
      " [  0 162 232]\n",
      " [  0 162 232]\n",
      " [  0 162 232]\n",
      " [  0 162 232]\n",
      " [  0 162 232]\n",
      " [  0 162 232]\n",
      " [  0 162 232]\n",
      " [  0 162 232]\n",
      " [  0 162 232]\n",
      " [  0 162 232]\n",
      " [  0 162 232]\n",
      " [  0 162 232]\n",
      " [  0 162 232]\n",
      " [  0 162 232]\n",
      " [  0 162 232]\n",
      " [  0 162 232]\n",
      " [  0 162 232]\n",
      " [  0 162 232]\n",
      " [  0 162 232]\n",
      " [  0 162 232]\n",
      " [  0 162 232]\n",
      " [  0 162 232]\n",
      " [  0 162 232]\n",
      " [  0 162 232]\n",
      " [  0 162 232]\n",
      " [  0 162 232]\n",
      " [  0 162 232]\n",
      " [  0 162 232]\n",
      " [  0 162 232]\n",
      " [  0 162 232]\n",
      " [  0 162 232]\n",
      " [  0 162 232]\n",
      " [  0 162 232]\n",
      " [  0 162 232]\n",
      " [  0 162 232]\n",
      " [  0 162 232]\n",
      " [  0 162 232]\n",
      " [  0 162 232]\n",
      " [  0 162 232]\n",
      " [  0 162 232]\n",
      " [  0 162 232]\n",
      " [  0 162 232]\n",
      " [  0 162 232]\n",
      " [  0 162 232]\n",
      " [  0 162 232]\n",
      " [237  28  36]\n",
      " [237  28  36]\n",
      " [237  28  36]\n",
      " [237  28  36]\n",
      " [237  28  36]\n",
      " [237  28  36]\n",
      " [237  28  36]\n",
      " [237  28  36]\n",
      " [237  28  36]\n",
      " [237  28  36]\n",
      " [237  28  36]\n",
      " [237  28  36]\n",
      " [237  28  36]\n",
      " [ 34 177  76]\n",
      " [ 34 177  76]\n",
      " [ 34 177  76]\n",
      " [ 34 177  76]\n",
      " [ 34 177  76]\n",
      " [ 34 177  76]\n",
      " [ 34 177  76]\n",
      " [ 34 177  76]\n",
      " [ 34 177  76]\n",
      " [ 34 177  76]\n",
      " [ 34 177  76]\n",
      " [ 34 177  76]\n",
      " [ 34 177  76]\n",
      " [ 34 177  76]\n",
      " [ 34 177  76]\n",
      " [ 34 177  76]\n",
      " [237  28  36]\n",
      " [237  28  36]\n",
      " [237  28  36]\n",
      " [237  28  36]\n",
      " [237  28  36]\n",
      " [237  28  36]\n",
      " [237  28  36]\n",
      " [237  28  36]\n",
      " [237  28  36]\n",
      " [237  28  36]\n",
      " [237  28  36]\n",
      " [237  28  36]\n",
      " [237  28  36]\n",
      " [237  28  36]\n",
      " [237  28  36]\n",
      " [237  28  36]\n",
      " [237  28  36]]\n"
     ]
    },
    {
     "data": {
      "image/png": "[encoded data removed]",
      "text/plain": [
       "<Figure size 640x480 with 1 Axes>"
      ]
     },
     "metadata": {},
     "output_type": "display_data"
    }
   ],
   "source": [
    "img = np.array(Image.open(\"image.bmp\"))\n",
    "with open(\"uncompressed.txt\", \"w\") as txt_file:\n",
    "    txt_file.write(\"[\")\n",
    "    for line in img:\n",
    "        txt_file.write(\"[\")\n",
    "        for item in line:\n",
    "            txt_file.write(f\"[{item[0]}, {item[1]}, {item[2]}],\")\n",
    "        txt_file.write(\"],\\n\") \n",
    "    txt_file.write(\"]\")\n",
    "\n",
    "plt.imshow(img)\n",
    "print(img[0])\n"
   ]
  },
  {
   "cell_type": "code",
   "execution_count": 4,
   "metadata": {},
   "outputs": [
    {
     "name": "stdout",
     "output_type": "stream",
     "text": [
      "[[54, array([  0, 162, 232], dtype=uint8)], [13, array([237,  28,  36], dtype=uint8)], [16, array([ 34, 177,  76], dtype=uint8)], [17, array([237,  28,  36], dtype=uint8)]]\n"
     ]
    }
   ],
   "source": [
    "rleImg = rleEncode(img)\n",
    "with open(\"rleCompressed.txt\", \"w\") as txt_file:\n",
    "    txt_file.write(\"[\")\n",
    "    for line in rleImg:\n",
    "        txt_file.write(\"[\")\n",
    "        for item in line:\n",
    "            txt_file.write(f\"[{item[0]}, [{item[1][0]}, {item[1][1]}, {item[1][2]}]],\")\n",
    "        txt_file.write(\"],\\n\") # works with any number of elements in a line\n",
    "    txt_file.write(\"]\")\n",
    "print(rleImg[0])"
   ]
  },
  {
   "cell_type": "code",
   "execution_count": null,
   "metadata": {},
   "outputs": [],
   "source": [
    "print(rleImg)"
   ]
  },
  {
   "cell_type": "code",
   "execution_count": 5,
   "metadata": {},
   "outputs": [
    {
     "name": "stdout",
     "output_type": "stream",
     "text": [
      "[[[[2, 54], [1, 13], [3, 16], [1, 17]], [[2, 54], [1, 11], [3, 20], [1, 15]], [[2, 54], [1, 9], [3, 24], [1, 13]], [[2, 54], [1, 8], [3, 26], [1, 12]], [[2, 54], [1, 6], [3, 30], [1, 10]], [[2, 54], [1, 5], [3, 32], [1, 9]], [[2, 54], [1, 4], [3, 34], [1, 8]], [[2, 54], [1, 3], [3, 36], [1, 7]], [[2, 54], [1, 3], [3, 36], [1, 7]], [[2, 54], [1, 2], [3, 38], [1, 6]], [[2, 54], [1, 2], [3, 39], [1, 5]], [[2, 54], [1, 1], [3, 40], [1, 5]], [[2, 54], [1, 1], [3, 41], [1, 4]], [[2, 54], [3, 42], [1, 4]], [[2, 54], [3, 42], [1, 4]], [[2, 54], [3, 42], [1, 4]], [[2, 53], [3, 44], [1, 3]], [[2, 53], [3, 44], [1, 3]], [[2, 53], [3, 44], [1, 3]], [[2, 53], [3, 44], [1, 3]], [[2, 53], [3, 44], [1, 3]], [[2, 53], [3, 44], [1, 3]], [[2, 53], [3, 44], [1, 3]], [[2, 53], [3, 44], [1, 3]], [[2, 54], [3, 43], [1, 3]], [[2, 54], [3, 42], [1, 4]], [[2, 54], [3, 42], [1, 4]], [[2, 54], [1, 1], [3, 41], [1, 4]], [[2, 54], [1, 1], [3, 40], [1, 5]], [[2, 54], [1, 1], [3, 40], [1, 5]], [[2, 39], [0, 17], [3, 38], [0, 6]], [[2, 39], [0, 18], [3, 36], [0, 7]], [[2, 39], [0, 18], [3, 36], [0, 7]], [[2, 39], [0, 19], [3, 34], [0, 8]], [[2, 39], [0, 20], [3, 32], [0, 9]], [[2, 39], [0, 21], [3, 30], [0, 10]], [[2, 39], [0, 23], [3, 27], [0, 11]], [[2, 39], [0, 24], [3, 24], [0, 13]], [[2, 39], [0, 26], [3, 20], [0, 15]], [[2, 39], [0, 28], [3, 16], [0, 17]], [[2, 39], [0, 31], [3, 10], [0, 20]], [[2, 39], [0, 61]], [[2, 39], [0, 61]], [[2, 39], [0, 61]], [[2, 39], [0, 61]], [[2, 39], [0, 61]], [[2, 39], [0, 61]], [[1, 39], [0, 61]], [[1, 39], [0, 61]], [[1, 39], [0, 61]], [[1, 39], [0, 61]], [[1, 39], [0, 61]], [[1, 39], [0, 61]], [[1, 39], [0, 61]], [[1, 39], [0, 61]], [[1, 39], [0, 61]], [[1, 39], [0, 61]], [[1, 39], [0, 61]], [[1, 39], [0, 61]], [[1, 39], [0, 61]], [[1, 39], [0, 61]], [[1, 39], [0, 61]], [[1, 39], [0, 61]], [[1, 39], [0, 61]], [[1, 39], [0, 61]], [[1, 39], [0, 61]], [[1, 39], [0, 61]], [[1, 39], [0, 61]], [[1, 39], [0, 61]], [[1, 39], [0, 61]], [[1, 39], [0, 61]], [[1, 39], [0, 61]], [[1, 39], [0, 61]], [[1, 39], [0, 61]], [[1, 39], [0, 61]], [[1, 39], [0, 61]], [[1, 39], [0, 61]], [[1, 39], [0, 61]], [[1, 39], [0, 61]], [[1, 39], [0, 61]], [[1, 39], [0, 61]], [[1, 39], [0, 61]], [[1, 39], [0, 61]], [[1, 39], [0, 61]], [[1, 39], [0, 61]], [[1, 39], [0, 61]], [[1, 39], [0, 61]], [[1, 39], [0, 61]], [[1, 39], [0, 61]], [[1, 39], [0, 61]], [[1, 39], [0, 61]], [[1, 39], [0, 61]], [[1, 39], [0, 61]], [[1, 39], [0, 61]], [[1, 39], [0, 61]], [[1, 39], [0, 61]], [[1, 39], [0, 61]], [[1, 39], [0, 61]], [[1, 39], [0, 61]], [[1, 39], [0, 61]]], [[3, array([ 34, 177,  76], dtype=uint8)], [2, array([  0, 162, 232], dtype=uint8)], [1, array([237,  28,  36], dtype=uint8)], [0, array([255, 242,   0], dtype=uint8)]]]\n"
     ]
    }
   ],
   "source": [
    "huffmanImg = huffmanEncode(rleImg)\n",
    "with open(\"huffmanCompressed.txt\", \"w\") as txt_file:\n",
    "    txt_file.write(\"[[\")\n",
    "    for line in huffmanImg[0]:\n",
    "        txt_file.write(\"[\")\n",
    "        for item in line:\n",
    "            txt_file.write(f\"[{item[0]}, {item[1]}],\")\n",
    "        txt_file.write(\"],\\n[\")\n",
    "    for item in huffmanImg[1]:\n",
    "        txt_file.write(f\"[{item[0]}, [{item[1][0]}, {item[1][1]}, {item[1][2]}]],\")\n",
    "    txt_file.write(\"]]\")\n",
    "print(huffmanImg)"
   ]
  },
  {
   "cell_type": "code",
   "execution_count": 6,
   "metadata": {},
   "outputs": [
    {
     "name": "stdout",
     "output_type": "stream",
     "text": [
      "[array([  0, 162, 232], dtype=uint8), array([  0, 162, 232], dtype=uint8), array([  0, 162, 232], dtype=uint8), array([  0, 162, 232], dtype=uint8), array([  0, 162, 232], dtype=uint8), array([  0, 162, 232], dtype=uint8), array([  0, 162, 232], dtype=uint8), array([  0, 162, 232], dtype=uint8), array([  0, 162, 232], dtype=uint8), array([  0, 162, 232], dtype=uint8), array([  0, 162, 232], dtype=uint8), array([  0, 162, 232], dtype=uint8), array([  0, 162, 232], dtype=uint8), array([  0, 162, 232], dtype=uint8), array([  0, 162, 232], dtype=uint8), array([  0, 162, 232], dtype=uint8), array([  0, 162, 232], dtype=uint8), array([  0, 162, 232], dtype=uint8), array([  0, 162, 232], dtype=uint8), array([  0, 162, 232], dtype=uint8), array([  0, 162, 232], dtype=uint8), array([  0, 162, 232], dtype=uint8), array([  0, 162, 232], dtype=uint8), array([  0, 162, 232], dtype=uint8), array([  0, 162, 232], dtype=uint8), array([  0, 162, 232], dtype=uint8), array([  0, 162, 232], dtype=uint8), array([  0, 162, 232], dtype=uint8), array([  0, 162, 232], dtype=uint8), array([  0, 162, 232], dtype=uint8), array([  0, 162, 232], dtype=uint8), array([  0, 162, 232], dtype=uint8), array([  0, 162, 232], dtype=uint8), array([  0, 162, 232], dtype=uint8), array([  0, 162, 232], dtype=uint8), array([  0, 162, 232], dtype=uint8), array([  0, 162, 232], dtype=uint8), array([  0, 162, 232], dtype=uint8), array([  0, 162, 232], dtype=uint8), array([  0, 162, 232], dtype=uint8), array([  0, 162, 232], dtype=uint8), array([  0, 162, 232], dtype=uint8), array([  0, 162, 232], dtype=uint8), array([  0, 162, 232], dtype=uint8), array([  0, 162, 232], dtype=uint8), array([  0, 162, 232], dtype=uint8), array([  0, 162, 232], dtype=uint8), array([  0, 162, 232], dtype=uint8), array([  0, 162, 232], dtype=uint8), array([  0, 162, 232], dtype=uint8), array([  0, 162, 232], dtype=uint8), array([  0, 162, 232], dtype=uint8), array([  0, 162, 232], dtype=uint8), array([  0, 162, 232], dtype=uint8), array([237,  28,  36], dtype=uint8), array([237,  28,  36], dtype=uint8), array([237,  28,  36], dtype=uint8), array([237,  28,  36], dtype=uint8), array([237,  28,  36], dtype=uint8), array([237,  28,  36], dtype=uint8), array([237,  28,  36], dtype=uint8), array([237,  28,  36], dtype=uint8), array([237,  28,  36], dtype=uint8), array([237,  28,  36], dtype=uint8), array([237,  28,  36], dtype=uint8), array([237,  28,  36], dtype=uint8), array([237,  28,  36], dtype=uint8), array([ 34, 177,  76], dtype=uint8), array([ 34, 177,  76], dtype=uint8), array([ 34, 177,  76], dtype=uint8), array([ 34, 177,  76], dtype=uint8), array([ 34, 177,  76], dtype=uint8), array([ 34, 177,  76], dtype=uint8), array([ 34, 177,  76], dtype=uint8), array([ 34, 177,  76], dtype=uint8), array([ 34, 177,  76], dtype=uint8), array([ 34, 177,  76], dtype=uint8), array([ 34, 177,  76], dtype=uint8), array([ 34, 177,  76], dtype=uint8), array([ 34, 177,  76], dtype=uint8), array([ 34, 177,  76], dtype=uint8), array([ 34, 177,  76], dtype=uint8), array([ 34, 177,  76], dtype=uint8), array([237,  28,  36], dtype=uint8), array([237,  28,  36], dtype=uint8), array([237,  28,  36], dtype=uint8), array([237,  28,  36], dtype=uint8), array([237,  28,  36], dtype=uint8), array([237,  28,  36], dtype=uint8), array([237,  28,  36], dtype=uint8), array([237,  28,  36], dtype=uint8), array([237,  28,  36], dtype=uint8), array([237,  28,  36], dtype=uint8), array([237,  28,  36], dtype=uint8), array([237,  28,  36], dtype=uint8), array([237,  28,  36], dtype=uint8), array([237,  28,  36], dtype=uint8), array([237,  28,  36], dtype=uint8), array([237,  28,  36], dtype=uint8), array([237,  28,  36], dtype=uint8)]\n"
     ]
    },
    {
     "data": {
      "text/plain": [
       "<matplotlib.image.AxesImage at 0x190a1ab0040>"
      ]
     },
     "execution_count": 6,
     "metadata": {},
     "output_type": "execute_result"
    },
    {
     "data": {
      "image/png": "[encoded data removed]",
      "text/plain": [
       "<Figure size 640x480 with 1 Axes>"
      ]
     },
     "metadata": {},
     "output_type": "display_data"
    }
   ],
   "source": [
    "def decode(compressed):\n",
    "    decodedImg = []\n",
    "    img = compressed[0]\n",
    "    table = compressed[1]\n",
    "    for row in img:\n",
    "        decodedRow = []\n",
    "        for pix in row:\n",
    "            code = pix[0]\n",
    "            for codes in table:\n",
    "                if codes[0]==code:\n",
    "                    color = codes[1]\n",
    "            for n in range(pix[1]):\n",
    "                decodedRow.append(color)\n",
    "        decodedImg.append(decodedRow)\n",
    "    return decodedImg\n",
    "\n",
    "decodedImg = decode(huffmanImg)\n",
    "print(decodedImg[0])\n",
    "plt.imshow(decodedImg)"
   ]
  },
  {
   "cell_type": "code",
   "execution_count": 7,
   "metadata": {},
   "outputs": [
    {
     "data": {
      "text/plain": [
       "<matplotlib.image.AxesImage at 0x190a3b8dbd0>"
      ]
     },
     "execution_count": 7,
     "metadata": {},
     "output_type": "execute_result"
    },
    {
     "data": {
      "image/png": "[encoded data removed]",
      "text/plain": [
       "<Figure size 640x480 with 1 Axes>"
      ]
     },
     "metadata": {},
     "output_type": "display_data"
    }
   ],
   "source": [
    "img2 = np.array(Image.open(\"image2.bmp\"))\n",
    "with open(\"uncompressed2.txt\", \"w\") as txt_file:\n",
    "    txt_file.write(\"[\")\n",
    "    for line in img2:\n",
    "        txt_file.write(\"[\")\n",
    "        for item in line:\n",
    "            txt_file.write(f\"[{item[0]}, {item[1]}, {item[2]}],\")\n",
    "        txt_file.write(\"],\\n\") \n",
    "    txt_file.write(\"]\")\n",
    "\n",
    "rleImg2 = rleEncode(img2)\n",
    "with open(\"rleCompressed2.txt\", \"w\") as txt_file:\n",
    "    txt_file.write(\"[\")\n",
    "    for line in rleImg2:\n",
    "        txt_file.write(\"[\")\n",
    "        for item in line:\n",
    "            txt_file.write(f\"[{item[0]}, [{item[1][0]}, {item[1][1]}, {item[1][2]}]],\")\n",
    "        txt_file.write(\"],\\n\") # works with any number of elements in a line\n",
    "    txt_file.write(\"]\")\n",
    "\n",
    "huffmanImg2 = huffmanEncode(rleImg2)\n",
    "with open(\"huffmanCompressed2.txt\", \"w\") as txt_file:\n",
    "    txt_file.write(\"[[\")\n",
    "    for line in huffmanImg2[0]:\n",
    "        txt_file.write(\"[\")\n",
    "        for item in line:\n",
    "            txt_file.write(f\"[{item[0]}, {item[1]}],\")\n",
    "        txt_file.write(\"],\\n[\")\n",
    "    for item in huffmanImg2[1]:\n",
    "        txt_file.write(f\"[{item[0]}, [{item[1][0]}, {item[1][1]}, {item[1][2]}]],\")\n",
    "    txt_file.write(\"]]\")\n",
    "\n",
    "decodedImg2 = decode(huffmanImg2)\n",
    "plt.imshow(decodedImg2)"
   ]
  },
  {
   "cell_type": "code",
   "execution_count": 8,
   "metadata": {},
   "outputs": [
    {
     "ename": "KeyboardInterrupt",
     "evalue": "",
     "output_type": "error",
     "traceback": [
      "\u001b[1;31m---------------------------------------------------------------------------\u001b[0m",
      "\u001b[1;31mKeyboardInterrupt\u001b[0m                         Traceback (most recent call last)",
      "Cell \u001b[1;32mIn[8], line 21\u001b[0m\n\u001b[0;32m     18\u001b[0m         txt_file\u001b[39m.\u001b[39mwrite(\u001b[39m\"\u001b[39m\u001b[39m],\u001b[39m\u001b[39m\\n\u001b[39;00m\u001b[39m\"\u001b[39m) \u001b[39m# works with any number of elements in a line\u001b[39;00m\n\u001b[0;32m     19\u001b[0m     txt_file\u001b[39m.\u001b[39mwrite(\u001b[39m\"\u001b[39m\u001b[39m]\u001b[39m\u001b[39m\"\u001b[39m)\n\u001b[1;32m---> 21\u001b[0m huffmanImg3 \u001b[39m=\u001b[39m huffmanEncode(rleImg3)\n\u001b[0;32m     22\u001b[0m \u001b[39mwith\u001b[39;00m \u001b[39mopen\u001b[39m(\u001b[39m\"\u001b[39m\u001b[39mhuffmanCompressed3.txt\u001b[39m\u001b[39m\"\u001b[39m, \u001b[39m\"\u001b[39m\u001b[39mw\u001b[39m\u001b[39m\"\u001b[39m) \u001b[39mas\u001b[39;00m txt_file:\n\u001b[0;32m     23\u001b[0m     txt_file\u001b[39m.\u001b[39mwrite(\u001b[39m\"\u001b[39m\u001b[39m[[\u001b[39m\u001b[39m\"\u001b[39m)\n",
      "Cell \u001b[1;32mIn[2], line 36\u001b[0m, in \u001b[0;36mhuffmanEncode\u001b[1;34m(img)\u001b[0m\n\u001b[0;32m     35\u001b[0m \u001b[39mdef\u001b[39;00m \u001b[39mhuffmanEncode\u001b[39m(img):\n\u001b[1;32m---> 36\u001b[0m     colorsCount \u001b[39m=\u001b[39m \u001b[39msorted\u001b[39m(colorCount(img))\n\u001b[0;32m     37\u001b[0m     colorsCoded \u001b[39m=\u001b[39m []\n\u001b[0;32m     38\u001b[0m     \u001b[39mfor\u001b[39;00m color \u001b[39min\u001b[39;00m colorsCount:\n",
      "Cell \u001b[1;32mIn[2], line 27\u001b[0m, in \u001b[0;36mcolorCount\u001b[1;34m(img)\u001b[0m\n\u001b[0;32m     25\u001b[0m \u001b[39mfor\u001b[39;00m color \u001b[39min\u001b[39;00m colors:\n\u001b[0;32m     26\u001b[0m     comparison \u001b[39m=\u001b[39m color[\u001b[39m1\u001b[39m]\u001b[39m==\u001b[39m\u001b[39mlist\u001b[39m[\u001b[39m1\u001b[39m]\n\u001b[1;32m---> 27\u001b[0m     \u001b[39mif\u001b[39;00m comparison\u001b[39m.\u001b[39;49mall():\n\u001b[0;32m     28\u001b[0m         color[\u001b[39m0\u001b[39m] \u001b[39m+\u001b[39m\u001b[39m=\u001b[39m \u001b[39mlist\u001b[39m[\u001b[39m0\u001b[39m]\n\u001b[0;32m     29\u001b[0m         found \u001b[39m=\u001b[39m \u001b[39mTrue\u001b[39;00m\n",
      "\u001b[1;31mKeyboardInterrupt\u001b[0m: "
     ]
    }
   ],
   "source": [
    "img3 = np.array(Image.open(\"image3.bmp\"))\n",
    "with open(\"uncompressed3.txt\", \"w\") as txt_file:\n",
    "    txt_file.write(\"[\")\n",
    "    for line in img3:\n",
    "        txt_file.write(\"[\")\n",
    "        for item in line:\n",
    "            txt_file.write(f\"[{item[0]}, {item[1]}, {item[2]}],\")\n",
    "        txt_file.write(\"],\\n\") \n",
    "    txt_file.write(\"]\")\n",
    "\n",
    "rleImg3 = rleEncode(img3)\n",
    "with open(\"rleCompressed3.txt\", \"w\") as txt_file:\n",
    "    txt_file.write(\"[\")\n",
    "    for line in rleImg3:\n",
    "        txt_file.write(\"[\")\n",
    "        for item in line:\n",
    "            txt_file.write(f\"[{item[0]}, [{item[1][0]}, {item[1][1]}, {item[1][2]}]],\")\n",
    "        txt_file.write(\"],\\n\") # works with any number of elements in a line\n",
    "    txt_file.write(\"]\")\n",
    "\n",
    "huffmanImg3 = huffmanEncode(rleImg3)\n",
    "with open(\"huffmanCompressed3.txt\", \"w\") as txt_file:\n",
    "    txt_file.write(\"[[\")\n",
    "    for line in huffmanImg3[0]:\n",
    "        txt_file.write(\"[\")\n",
    "        for item in line:\n",
    "            txt_file.write(f\"[{item[0]}, {item[1]}],\")\n",
    "        txt_file.write(\"],\\n[\")\n",
    "    for item in huffmanImg3[1]:\n",
    "        txt_file.write(f\"[{item[0]}, [{item[1][0]}, {item[1][1]}, {item[1][2]}]],\")\n",
    "    txt_file.write(\"]]\")\n",
    "\n",
    "decodedImg3 = decode(huffmanImg3)\n",
    "plt.imshow(decodedImg3)"
   ]
  }
 ],
 "metadata": {
  "kernelspec": {
   "display_name": "Python 3",
   "language": "python",
   "name": "python3"
  },
  "language_info": {
   "codemirror_mode": {
    "name": "ipython",
    "version": 3
   },
   "file_extension": ".py",
   "mimetype": "text/x-python",
   "name": "python",
   "nbconvert_exporter": "python",
   "pygments_lexer": "ipython3",
   "version": "3.10.9 (tags/v3.10.9:1dd9be6, Dec  6 2022, 20:01:21) [MSC v.1934 64 bit (AMD64)]"
  },
  "orig_nbformat": 4,
  "vscode": {
   "interpreter": {
    "hash": "41088a943571dae14e9764861afd84db632a3334e41c5ae14a4e141d8a55ac67"
   }
  }
 },
 "nbformat": 4,
 "nbformat_minor": 2
}
